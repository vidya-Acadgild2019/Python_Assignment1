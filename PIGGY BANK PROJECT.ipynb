{
 "cells": [
  {
   "cell_type": "code",
   "execution_count": null,
   "metadata": {},
   "outputs": [],
   "source": [
    "import piggy_bank"
   ]
  },
  {
   "cell_type": "raw",
   "metadata": {},
   "source": [
    "#pre code"
   ]
  },
  {
   "cell_type": "code",
   "execution_count": null,
   "metadata": {},
   "outputs": [],
   "source": [
    "money = 0"
   ]
  },
  {
   "cell_type": "raw",
   "metadata": {},
   "source": [
    "# function to add money to current amount"
   ]
  },
  {
   "cell_type": "code",
   "execution_count": null,
   "metadata": {},
   "outputs": [],
   "source": [
    "def addMoney():\n",
    "    print(\" \")\n",
    "    userAdd = float(raw_input(\"Add money : \"))\n",
    "    print(\" \")\n",
    "    money = money + userAdd\n",
    "    print(\"After adding current Money you have is \" + str(money) + \" rupees\")\n"
   ]
  },
  {
   "cell_type": "raw",
   "metadata": {},
   "source": [
    "# function to withdraw money from current amount"
   ]
  },
  {
   "cell_type": "code",
   "execution_count": null,
   "metadata": {},
   "outputs": [],
   "source": [
    "def withdrawMoney():\n",
    "    print(\" \")\n",
    "    userWithdraw = float(raw_input(\"Add money : \"))\n",
    "    print(\" \")\n",
    "    money = money + userWithdraw\n",
    "    print(\"After adding current Money you have is \" + str(money) + \" rupees\")\n"
   ]
  },
  {
   "cell_type": "raw",
   "metadata": {},
   "source": [
    "# function to display current amount"
   ]
  },
  {
   "cell_type": "code",
   "execution_count": null,
   "metadata": {},
   "outputs": [],
   "source": [
    "def currentMoney():\n",
    "    print(\" \")\n",
    "    current = \"Current money you have is \" + str(money) + \" rupees\"\n"
   ]
  },
  {
   "cell_type": "raw",
   "metadata": {},
   "source": [
    "# main code"
   ]
  },
  {
   "cell_type": "code",
   "execution_count": null,
   "metadata": {},
   "outputs": [],
   "source": [
    "print(\" \")\n",
    "print(\"--------------------Start-------------------\")\n",
    "while True:\n",
    "    print(\" \")\n",
    "    user = raw_input(\"Start or End : \")\n",
    "    if user.strip() == \"Start\":\n",
    "        controlPiggy = raw_input(\"Add Withdraw or Check : \")\n",
    "        if controlPiggy.strip() == \"Add\":\n",
    "            print(addMoney())\n",
    "            continue\n",
    "        elif controlPiggy.strip() == \"Withdraw\":\n",
    "            print(withdrawMoney())\n",
    "            continue\n",
    "        elif controlPiggy.strip() == \"Check\":\n",
    "            print(currentMoney())\n",
    "            continue\n",
    "        else :\n",
    "            print(\" \")\n",
    "            print(\"Invalid Input.Try again\")\n",
    "            continue\n",
    "\n",
    "    elif user.strip() == \"End\" :\n",
    "        print(\" \")\n",
    "        print(\"------------Program Ended-----------\")\n",
    "        print(\" \")\n",
    "        break\n",
    "\n",
    "    else :\n",
    "        print(\" \")\n",
    "        print(\"Invalid Input. Try again\")\n",
    "        continue"
   ]
  }
 ],
 "metadata": {
  "kernelspec": {
   "display_name": "Python 3",
   "language": "python",
   "name": "python3"
  },
  "language_info": {
   "codemirror_mode": {
    "name": "ipython",
    "version": 3
   },
   "file_extension": ".py",
   "mimetype": "text/x-python",
   "name": "python",
   "nbconvert_exporter": "python",
   "pygments_lexer": "ipython3",
   "version": "3.7.1"
  }
 },
 "nbformat": 4,
 "nbformat_minor": 2
}
