{
 "cells": [
  {
   "cell_type": "markdown",
   "metadata": {},
   "source": [
    "# Problem Statement"
   ]
  },
  {
   "cell_type": "markdown",
   "metadata": {},
   "source": [
    "Question 1.1: Write a Python Program to implement your own myreduce() function which works exactly like Python's built-in function reduce()"
   ]
  },
  {
   "cell_type": "markdown",
   "metadata": {},
   "source": [
    "ANSWER:\n",
    "Source Code:\n",
    "import functools\n",
    "import operator\n",
    "list = [10,20,30,40,50]\n",
    "print (\"The product of the list elements is : \",end=\"\")\n",
    "myreduce = functools.reduce\n",
    "print (myreduce(operator.mul,list))"
   ]
  },
  {
   "cell_type": "code",
   "execution_count": 1,
   "metadata": {},
   "outputs": [
    {
     "name": "stdout",
     "output_type": "stream",
     "text": [
      "The product of the list elements is: 12000000\n"
     ]
    }
   ],
   "source": [
    "import functools\n",
    "import operator\n",
    "list=[10,20,30,40,50]\n",
    "print(\"The product of the list elements is: \", end=\"\")\n",
    "myreduce = functools.reduce\n",
    "print(myreduce(operator.mul, list))"
   ]
  },
  {
   "cell_type": "markdown",
   "metadata": {},
   "source": [
    "Question 1.2:  Write a Python program to implement your own myfilter() function which works exactly like Python's built-in function filter()"
   ]
  },
  {
   "cell_type": "markdown",
   "metadata": {},
   "source": [
    "ANSWER:\n",
    "\n",
    "Filtering out colors from a list of seasonal fruits of the region\n",
    "\n",
    "Source code:\n",
    "\n",
    "Fruits = ['Peach','Prunes','Black','Apples','Nectarines','Peach','Yellow']\n",
    "\n",
    "deffilterColor(Fruits):\n",
    "    Color=['Black','Yellow']\n",
    "\n",
    "if(Fruits in Color):\n",
    "    return True\n",
    "else:\n",
    "    return False\n",
    "    \n",
    "myfilter = filter(filterColor, Fruits)\n",
    "\n",
    "print('The filtered colors are:')\n",
    "for Color in myfilter:\n",
    "    print(Color)\n"
   ]
  },
  {
   "cell_type": "code",
   "execution_count": 10,
   "metadata": {},
   "outputs": [
    {
     "name": "stdout",
     "output_type": "stream",
     "text": [
      "The filtered colors are: \n",
      "Black\n",
      "Yellow\n"
     ]
    }
   ],
   "source": [
    "# Filtering out colors  from a list of seasonal fruits of the region:\n",
    "\n",
    "Fruits = ['Peach', 'Prunes', 'Black','Apples', 'Nectarines', 'Peach', 'Yellow']\n",
    "\n",
    "def filterColor(Fruits):\n",
    "    Color = ['Black', 'Yellow']\n",
    "    \n",
    "    if(Fruits in Color):\n",
    "        return True\n",
    "    else:\n",
    "        return False\n",
    "    \n",
    "myfilter = filter(filterColor, Fruits)\n",
    "\n",
    "print('The filtered colors are: ')\n",
    "for Color in myfilter:\n",
    "    print(Color)"
   ]
  },
  {
   "cell_type": "markdown",
   "metadata": {},
   "source": [
    "Question 2: Implement List comprehensions to produce the following lists.\n",
    "Write List comprehensions to produce the following Lists\n",
    "['A', 'C', 'A', 'D', 'G', 'I', ’L’, ‘ D’]\n",
    "['x', 'xx', 'xxx', 'xxxx', 'y', 'yy', 'yyy', 'yyyy', 'z', 'zz', 'zzz', 'zzzz']\n",
    "['x', 'y', 'z', 'xx', 'yy', 'zz', 'xx', 'yy', 'zz', 'xxxx', 'yyyy', 'zzzz']\n",
    "[[2], [3], [4], [3], [4], [5], [4], [5], [6]]\n",
    "[[2, 3, 4, 5], [3, 4, 5, 6], [4, 5, 6, 7], [5, 6, 7, 8]]\n",
    "[(1, 1), (2, 1), (3, 1), (1, 2), (2, 2), (3, 2), (1, 3), (2, 3), (3, 3)]"
   ]
  },
  {
   "cell_type": "markdown",
   "metadata": {},
   "source": [
    "ANSWER:\n",
    "Source Code:\n",
    "Acadgild_split=[split for slpilt in 'ACADGILD']\n",
    "print(Acadgild_split)"
   ]
  },
  {
   "cell_type": "markdown",
   "metadata": {},
   "source": [
    "list1 =['x','y','z']\n",
    "output=[item * num for item in list1 for num in range (1,5)]\n",
    "print(\"\"+str(output))"
   ]
  },
  {
   "cell_type": "markdown",
   "metadata": {},
   "source": [
    "list1=['x', 'y', 'z']\n",
    "output=[items * num for num in range(1,5) for item in list1]\n",
    "print(\"\"+str(output))"
   ]
  },
  {
   "cell_type": "markdown",
   "metadata": {},
   "source": [
    "list2=[2,3,4]\n",
    "output=[[item+num] for item in list2 for num in range(0,3)]\n",
    "print(\"\"+str(output))"
   ]
  },
  {
   "cell_type": "markdown",
   "metadata": {},
   "source": [
    "list3 = [2,3,4,5]\n",
    "output=[[item+num for item in list3] for num in range(0,4)]\n",
    "print(\"\"+str(output))"
   ]
  },
  {
   "cell_type": "markdown",
   "metadata": {},
   "source": [
    "list4=[1,2,3]\n",
    "output=[(b,a) for a in list4 for b in list4]\n",
    "print(\"\"+str(output))"
   ]
  },
  {
   "cell_type": "code",
   "execution_count": 3,
   "metadata": {},
   "outputs": [
    {
     "name": "stdout",
     "output_type": "stream",
     "text": [
      "['A', 'C', 'A', 'D', 'G', 'I', 'L', 'D']\n"
     ]
    }
   ],
   "source": [
    "Acadgild_split=[split for split in 'ACADGILD']\n",
    "print(Acadgild_split)"
   ]
  },
  {
   "cell_type": "code",
   "execution_count": 4,
   "metadata": {},
   "outputs": [
    {
     "name": "stdout",
     "output_type": "stream",
     "text": [
      "['x', 'xx', 'xxx', 'xxxx', 'y', 'yy', 'yyy', 'yyyy', 'z', 'zz', 'zzz', 'zzzz']\n"
     ]
    }
   ],
   "source": [
    "list1 = ['x','y','z']\n",
    "output = [ item*num for item in list1 for num in range(1,5)]\n",
    "print(\"\" + str(output))"
   ]
  },
  {
   "cell_type": "code",
   "execution_count": 5,
   "metadata": {},
   "outputs": [
    {
     "name": "stdout",
     "output_type": "stream",
     "text": [
      "['x', 'y', 'z', 'xx', 'yy', 'zz', 'xxx', 'yyy', 'zzz', 'xxxx', 'yyyy', 'zzzz']\n"
     ]
    }
   ],
   "source": [
    "list1=['x', 'y','z']\n",
    "output = [item*num for num in range(1,5) for item in list1]\n",
    "print(\"\"+str(output))"
   ]
  },
  {
   "cell_type": "code",
   "execution_count": 6,
   "metadata": {},
   "outputs": [
    {
     "name": "stdout",
     "output_type": "stream",
     "text": [
      "[[2], [3], [4], [3], [4], [5], [4], [5], [6]]\n"
     ]
    }
   ],
   "source": [
    "list2=[2,3,4]\n",
    "output = [[item+num] for item in list2 for num in range(0,3)]\n",
    "print(\"\"+str(output))"
   ]
  },
  {
   "cell_type": "code",
   "execution_count": 7,
   "metadata": {},
   "outputs": [
    {
     "name": "stdout",
     "output_type": "stream",
     "text": [
      "[[2, 3, 4, 5], [3, 4, 5, 6], [4, 5, 6, 7], [5, 6, 7, 8]]\n"
     ]
    }
   ],
   "source": [
    "list3=[2,3,4,5]\n",
    "output = [[item+num for item in list3] for num in range (0,4) ]\n",
    "print(\"\"+str(output))"
   ]
  },
  {
   "cell_type": "code",
   "execution_count": 8,
   "metadata": {},
   "outputs": [
    {
     "name": "stdout",
     "output_type": "stream",
     "text": [
      "[(1, 1), (2, 1), (3, 1), (1, 2), (2, 2), (3, 2), (1, 3), (2, 3), (3, 3)]\n"
     ]
    }
   ],
   "source": [
    "list4=[1,2,3]\n",
    "output = [(b,a) for a in list4 for b in list4]\n",
    "print(\"\"+str(output))"
   ]
  },
  {
   "cell_type": "markdown",
   "metadata": {},
   "source": [
    "Question 3: Implement a function longestWord() that takes a list of words and returns the longest one"
   ]
  },
  {
   "cell_type": "markdown",
   "metadata": {},
   "source": [
    "ANSWER:\n",
    "\n",
    "Source Code:\n",
    "\n",
    "deflongestWord(words_list)\n",
    "    word_len = []\n",
    "    for n in words_list:\n",
    "      word_len.append((len(n),n)\n",
    "    word_len.sort()\n",
    "    return word_len[-1][1]\n",
    "     \n",
    " print[longestWord([\"India\", \"Nepal\", \"America\", \"Antartica\"])]"
   ]
  },
  {
   "cell_type": "code",
   "execution_count": 9,
   "metadata": {},
   "outputs": [
    {
     "name": "stdout",
     "output_type": "stream",
     "text": [
      "Antartica\n"
     ]
    }
   ],
   "source": [
    "def longestWord(words_list):\n",
    "    word_len = []\n",
    "    for n in words_list:\n",
    "        word_len.append((len(n), n))\n",
    "    word_len.sort()\n",
    "    return word_len[-1][1]\n",
    "print(longestWord([\"India\", \"Nepal\", \"Antartica\", \"America\"]))"
   ]
  }
 ],
 "metadata": {
  "kernelspec": {
   "display_name": "Python 3",
   "language": "python",
   "name": "python3"
  },
  "language_info": {
   "codemirror_mode": {
    "name": "ipython",
    "version": 3
   },
   "file_extension": ".py",
   "mimetype": "text/x-python",
   "name": "python",
   "nbconvert_exporter": "python",
   "pygments_lexer": "ipython3",
   "version": "3.7.1"
  }
 },
 "nbformat": 4,
 "nbformat_minor": 2
}
